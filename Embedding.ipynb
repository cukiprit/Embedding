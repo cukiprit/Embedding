{
  "nbformat": 4,
  "nbformat_minor": 0,
  "metadata": {
    "colab": {
      "name": "Embedding.ipynb",
      "provenance": []
    },
    "kernelspec": {
      "name": "python3",
      "display_name": "Python 3"
    },
    "language_info": {
      "name": "python"
    }
  },
  "cells": [
    {
      "cell_type": "markdown",
      "metadata": {
        "id": "h3v9klKdknZZ"
      },
      "source": [
        "# Embeeding"
      ]
    },
    {
      "cell_type": "markdown",
      "metadata": {
        "id": "rkvrQCp-krer"
      },
      "source": [
        "Pada klasifikasi teks, kita perlu melakukan embedding yang merupakan kunci dalam klasifikasi teks di tensorflow. Embedding memungkinkan model Machine Learning untuk memahami maknda dari setiap kata dan pengelompokkan kata - kata dengan makna yang mirip agar berdekatan\n",
        "\n",
        "Untuk mengimplementasikan Embedding pada keras kita memanggil fungsi Embedding() pada model sequential dan mengisi parameter total kata yang di tokenisasi, panjang kalimat, serta dimensi embedding yang diinginkan. Karena hasil embedding merupakan larik 2 dimensi yang berisi panjang setiap kalimat dan dimensi embedding, maka kita memerlukan fungsi flatten()"
      ]
    },
    {
      "cell_type": "code",
      "metadata": {
        "id": "YHL40DIdkKQ0"
      },
      "source": [
        "model = tf.keras.Sequential([\n",
        "                             tf.keras.layers.Embedding(jumlah_kata, dimensi_embedding, panjang_input),\n",
        "                             tf.keras.layers.Flatten()\n",
        "                             tf.keras.layers.Dense(24, activation = 'relu'),\n",
        "                             tf.keras.layers.Dense(1, activation = 'sigmoid')\n",
        "])"
      ],
      "execution_count": null,
      "outputs": []
    },
    {
      "cell_type": "code",
      "metadata": {
        "id": "YljcwyxblnBa"
      },
      "source": [
        "model.compile(\n",
        "    loss = 'categorical_crossentropy',\n",
        "    optimizer = 'adam',\n",
        "    metrics = ['accuracy']\n",
        ")"
      ],
      "execution_count": null,
      "outputs": []
    },
    {
      "cell_type": "code",
      "metadata": {
        "id": "qoVAufT8lxBP"
      },
      "source": [
        "model.fit(\n",
        "    padded_latih, label_latih,\n",
        "    epochs = num_epochs,\n",
        "    validation_data = (padded_test, label_test)\n",
        ")"
      ],
      "execution_count": null,
      "outputs": []
    }
  ]
}